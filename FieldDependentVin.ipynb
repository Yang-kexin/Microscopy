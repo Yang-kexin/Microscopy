{
 "cells": [
  {
   "cell_type": "code",
   "execution_count": 1,
   "metadata": {},
   "outputs": [],
   "source": [
    "import pymeasure\n",
    "from pymeasure.instruments.srs import SR830\n",
    "import numpy as np\n",
    "import pandas as pd\n",
    "from time import sleep\n",
    "import matplotlib.pyplot as plt"
   ]
  },
  {
   "cell_type": "code",
   "execution_count": 2,
   "metadata": {},
   "outputs": [
    {
     "data": {
      "text/plain": [
       "'Stanford_Research_Systems,SR830,s/n81851,ver1.07'"
      ]
     },
     "execution_count": 2,
     "metadata": {},
     "output_type": "execute_result"
    }
   ],
   "source": [
    "sourcemeter = SR830('GPIB::9')\n",
    "sourcemeter.id"
   ]
  },
  {
   "cell_type": "markdown",
   "metadata": {},
   "source": [
    "Initialize parameters and input DC voltage parameters"
   ]
  },
  {
   "cell_type": "code",
   "execution_count": 3,
   "metadata": {},
   "outputs": [],
   "source": [
    "data_points = 100\n",
    "field_voltage_slope = 192.38 # (mT/V)\n",
    "max_field = 1000 # (mT)\n",
    "min_field = -max_field\n",
    "# max_voltage = 0.2 # (V)\n",
    "# min_voltage = -max_voltage\n",
    "sourcemeter.harmonic = 1\n",
    "filename = 'Au_Si_1T field 27.7mV QWP1 no analyzer offset Vin.dat'\n",
    "V_DC = 27.7E-3 # DC voltage read from multimeter\n",
    "#repeat = 50"
   ]
  },
  {
   "cell_type": "code",
   "execution_count": 4,
   "metadata": {},
   "outputs": [],
   "source": [
    "loop1 = np.linspace(min_field, max_field, num=data_points)\n",
    "# loop2 = np.linspace(max_field, min_field, num=data_points)\n",
    "# fields = np.concatenate((loop1, loop2))\n",
    "fields = loop1\n",
    "voltages = fields / field_voltage_slope \n",
    "Vin = np.zeros_like(voltages)"
   ]
  },
  {
   "cell_type": "markdown",
   "metadata": {},
   "source": [
    "Loop over field and measure in-phase signal"
   ]
  },
  {
   "cell_type": "code",
   "execution_count": 7,
   "metadata": {
    "scrolled": true
   },
   "outputs": [],
   "source": [
    "# repeat = 4\n",
    "for i in range(len(fields)):\n",
    "    sourcemeter.aux_out_1 = voltages[i]\n",
    "    sleep(0.5)\n",
    "#     repeatSum = 0\n",
    "#     for j in range(repeat):\n",
    "#         repeatSum += sourcemeter.x\n",
    "#         sleep(0.3)\n",
    "    Vin[i] = sourcemeter.x\n",
    "#     Vin[i] = repeatSum/repeat\n",
    "sourcemeter.aux_out_1 = 0\n",
    "\n",
    "# Kerr = Vin/V_DC/2/0.7"
   ]
  },
  {
   "cell_type": "code",
   "execution_count": 8,
   "metadata": {},
   "outputs": [
    {
     "data": {
      "text/plain": [
       "(-0.25, 0.35)"
      ]
     },
     "execution_count": 8,
     "metadata": {},
     "output_type": "execute_result"
    },
    {
     "data": {
      "image/png": "[encoded data removed]",
      "text/plain": [
       "<Figure size 432x288 with 1 Axes>"
      ]
     },
     "metadata": {
      "needs_background": "light"
     },
     "output_type": "display_data"
    }
   ],
   "source": [
    "Kerr = Vin/V_DC/2/0.7\n",
    "plt.plot(fields, Kerr*1e3)\n",
    "plt.ylim(-0.25, 0.35)"
   ]
  },
  {
   "cell_type": "code",
   "execution_count": 9,
   "metadata": {},
   "outputs": [],
   "source": [
    "data = pd.DataFrame({\n",
    "    'Field (mT)': fields,\n",
    "    'V_in (V)': Vin})\n",
    "data.to_csv(filename)"
   ]
  },
  {
   "cell_type": "code",
   "execution_count": 182,
   "metadata": {},
   "outputs": [
    {
     "data": {
      "text/plain": [
       "array([-1.40817, -1.45287, -1.48267, -1.52738, -1.57953, -1.59443,\n",
       "       -1.52738, -1.47522, -1.46032, -1.45287, -1.43052, -1.42307,\n",
       "       -1.44542, -1.46032, -1.45287, -1.43797, -1.44542, -1.43797,\n",
       "       -1.43052, -1.43052, -1.41562, -1.40072, -1.38582, -1.37836,\n",
       "       -1.37836, -1.39327, -1.44542, -1.42307, -1.42307, -1.40817,\n",
       "       -1.39327, -1.37836, -1.34856, -1.34111, -1.34856, -1.37091,\n",
       "       -1.39327, -1.40072, -1.40817, -1.42307, -1.42307, -1.40072,\n",
       "       -1.39327, -1.37091, -1.34856, -1.33366, -1.31131, -1.31131,\n",
       "       -1.35601, -1.37091, -1.36346, -1.37091, -1.37836, -1.35601,\n",
       "       -1.35601, -1.36346, -1.37091, -1.39327, -1.40072, -1.39327,\n",
       "       -1.37836, -1.35601, -1.34856, -1.36346, -1.37091, -1.37091,\n",
       "       -1.35601, -1.37836, -1.38582, -1.37836, -1.38582, -1.40072,\n",
       "       -1.41562, -1.43052, -1.43052, -1.43052, -1.43797, -1.43797,\n",
       "       -1.43797, -1.43797, -1.43052, -1.42307, -1.41562, -1.41562,\n",
       "       -1.43797, -1.45287, -1.46777, -1.49012, -1.48267, -1.47522,\n",
       "       -1.47522, -1.47522, -1.49757, -1.51248, -1.50502, -1.48267,\n",
       "       -1.45287, -1.46777, -1.49012, -1.49012])"
      ]
     },
     "execution_count": 182,
     "metadata": {},
     "output_type": "execute_result"
    }
   ],
   "source": [
    "Vin/1E-6"
   ]
  },
  {
   "cell_type": "code",
   "execution_count": 185,
   "metadata": {},
   "outputs": [
    {
     "data": {
      "text/plain": [
       "(-0.3, -0.2)"
      ]
     },
     "execution_count": 185,
     "metadata": {},
     "output_type": "execute_result"
    },
    {
     "data": {
      "image/png": "[encoded data removed]",
      "text/plain": [
       "<Figure size 432x288 with 1 Axes>"
      ]
     },
     "metadata": {
      "needs_background": "light"
     },
     "output_type": "display_data"
    }
   ],
   "source": [
    "Kerr = Vin/V_DC/2/0.7\n",
    "plt.plot(fields, Kerr*1000)\n",
    "plt.ylim(-0.3, -0.2)"
   ]
  },
  {
   "cell_type": "code",
   "execution_count": 128,
   "metadata": {},
   "outputs": [
    {
     "data": {
      "text/plain": [
       "array([-2.60681598, -2.60636804, -2.60613801, -2.60658596, -2.60590799,\n",
       "       -2.60569007, -2.60456416, -2.60681598, -2.607046  , -2.60546005,\n",
       "       -2.60524213, -2.6038862 , -2.60320823, -2.60433414, -2.60343826,\n",
       "       -2.60456416, -2.60433414, -2.60478208, -2.60524213, -2.60456416,\n",
       "       -2.60501211, -2.60478208, -2.60524213, -2.607046  , -2.60681598,\n",
       "       -2.60613801, -2.60636804, -2.60613801, -2.60636804, -2.60681598,\n",
       "       -2.60749395, -2.607046  , -2.60546005, -2.60546005, -2.60613801,\n",
       "       -2.60613801, -2.60524213, -2.60546005, -2.60569007, -2.60590799,\n",
       "       -2.60613801, -2.60524213, -2.6038862 , -2.60365617, -2.60524213,\n",
       "       -2.60456416, -2.60297821, -2.60208232, -2.60276029, -2.60320823,\n",
       "       -2.60433414, -2.60320823, -2.60410412, -2.60320823, -2.60297821,\n",
       "       -2.60230024, -2.6018523 , -2.60117433, -2.60208232, -2.60230024,\n",
       "       -2.60297821, -2.6038862 , -2.60343826, -2.60320823, -2.60501211,\n",
       "       -2.60636804, -2.60546005, -2.60524213, -2.60546005, -2.60410412,\n",
       "       -2.60320823, -2.60320823, -2.60524213, -2.60681598, -2.60613801,\n",
       "       -2.60524213, -2.60501211, -2.60501211, -2.60456416, -2.60343826,\n",
       "       -2.60478208, -2.60478208, -2.60524213, -2.60410412, -2.60320823,\n",
       "       -2.60320823, -2.60297821, -2.6038862 , -2.60410412, -2.60410412,\n",
       "       -2.60343826, -2.60433414, -2.60501211, -2.60410412, -2.6038862 ,\n",
       "       -2.60320823, -2.60456416, -2.60681598, -2.60546005, -2.60410412])"
      ]
     },
     "execution_count": 128,
     "metadata": {},
     "output_type": "execute_result"
    }
   ],
   "source": [
    "Kerr*1000"
   ]
  },
  {
   "cell_type": "markdown",
   "metadata": {},
   "source": [
    "The std of Kerr angle is 0.5mrad. The sensitivity is 0.3s. The noise is 0.25 mrad/sqrt(Hz)"
   ]
  },
  {
   "cell_type": "code",
   "execution_count": 176,
   "metadata": {},
   "outputs": [
    {
     "data": {
      "text/plain": [
       "0.00020655186712730415"
      ]
     },
     "execution_count": 176,
     "metadata": {},
     "output_type": "execute_result"
    }
   ],
   "source": [
    "np.std(Kerr)"
   ]
  },
  {
   "cell_type": "code",
   "execution_count": null,
   "metadata": {},
   "outputs": [],
   "source": []
  }
 ],
 "metadata": {
  "kernelspec": {
   "display_name": "Python 3",
   "language": "python",
   "name": "python3"
  },
  "language_info": {
   "codemirror_mode": {
    "name": "ipython",
    "version": 3
   },
   "file_extension": ".py",
   "mimetype": "text/x-python",
   "name": "python",
   "nbconvert_exporter": "python",
   "pygments_lexer": "ipython3",
   "version": "3.7.3"
  }
 },
 "nbformat": 4,
 "nbformat_minor": 2
}
