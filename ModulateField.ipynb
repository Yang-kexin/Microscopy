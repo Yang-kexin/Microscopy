{
 "cells": [
  {
   "cell_type": "markdown",
   "metadata": {},
   "source": [
    "This program is to modulate the magnetic field in low frequency to reduce the signal drifting caused by thermal stress from optics. "
   ]
  },
  {
   "cell_type": "code",
   "execution_count": 2,
   "metadata": {},
   "outputs": [],
   "source": [
    "import pymeasure\n",
    "from pymeasure.instruments.srs import SR830\n",
    "from time import sleep\n",
    "import numpy as np\n",
    "import pandas as pd\n",
    "from scipy.signal import square\n",
    "import matplotlib.pyplot as plt\n",
    "\n",
    "sourcemeter = SR830('GPIB::9')"
   ]
  },
  {
   "cell_type": "code",
   "execution_count": 215,
   "metadata": {},
   "outputs": [
    {
     "name": "stdout",
     "output_type": "stream",
     "text": [
      "The current amplitude is 5.6000000000000005 Amp\n"
     ]
    }
   ],
   "source": [
    "data_points = 40\n",
    "slope = 192.38 # (mT/V)\n",
    "voltage_amp = 1000/192.38 # 0.2T field\n",
    "print('The current amplitude is ' + str(voltage_amp * 0.8) + ' Amp')\n",
    "V_DC = 2.0E-3"
   ]
  },
  {
   "cell_type": "code",
   "execution_count": 216,
   "metadata": {},
   "outputs": [],
   "source": [
    "sourcemeter.harmonic = 1\n",
    "t = np.linspace(0, data_points, num=data_points, endpoint = False)\n",
    "Vin0 = np.zeros(data_points//2)\n",
    "Vin1 = np.zeros(data_points - data_points//2)"
   ]
  },
  {
   "cell_type": "code",
   "execution_count": 217,
   "metadata": {},
   "outputs": [],
   "source": [
    "for i in range(data_points):    \n",
    "    if i%2==0:         \n",
    "        sourcemeter.aux_out_1 = 0\n",
    "        sleep(0.5)\n",
    "        Vin0[i//2] = sourcemeter.x\n",
    "    else:        \n",
    "        sourcemeter.aux_out_1 = voltage_amp\n",
    "        sleep(0.5)\n",
    "        Vin1[i//2] = sourcemeter.x    \n",
    "sourcemeter.aux_out_1 = 0"
   ]
  },
  {
   "cell_type": "code",
   "execution_count": 218,
   "metadata": {},
   "outputs": [],
   "source": [
    "Vin = Vin1 - Vin0"
   ]
  },
  {
   "cell_type": "code",
   "execution_count": 219,
   "metadata": {},
   "outputs": [
    {
     "name": "stdout",
     "output_type": "stream",
     "text": [
      "6.263099999999999e-08 9.518389057750757e-06\n"
     ]
    }
   ],
   "source": [
    "print(np.mean(Vin),np.mean(Vin)/2/0.7/V_DC)"
   ]
  },
  {
   "cell_type": "code",
   "execution_count": 15,
   "metadata": {},
   "outputs": [
    {
     "data": {
      "text/plain": [
       "7.513275134619403e-06"
      ]
     },
     "execution_count": 15,
     "metadata": {},
     "output_type": "execute_result"
    }
   ],
   "source": [
    "np.mean(Vin)/2/0.7/V_DC"
   ]
  },
  {
   "cell_type": "code",
   "execution_count": 8,
   "metadata": {},
   "outputs": [
    {
     "data": {
      "text/plain": [
       "1.6611680127749554e-05"
      ]
     },
     "execution_count": 8,
     "metadata": {},
     "output_type": "execute_result"
    }
   ],
   "source": [
    "np.std(Vin)/2/0.7/V_DC"
   ]
  },
  {
   "cell_type": "code",
   "execution_count": 9,
   "metadata": {},
   "outputs": [
    {
     "data": {
      "text/plain": [
       "array([-2.980e-08, -1.788e-07,  8.960e-08, -5.980e-08,  2.386e-07,\n",
       "       -5.960e-08,  5.960e-08, -8.960e-08,  8.940e-08,  3.000e-08])"
      ]
     },
     "execution_count": 9,
     "metadata": {},
     "output_type": "execute_result"
    }
   ],
   "source": [
    "Vin"
   ]
  },
  {
   "cell_type": "code",
   "execution_count": 87,
   "metadata": {},
   "outputs": [
    {
     "data": {
      "text/plain": [
       "(-1e-05, -5e-06)"
      ]
     },
     "execution_count": 87,
     "metadata": {},
     "output_type": "execute_result"
    },
    {
     "data": {
      "image/png": "[encoded data removed]",
      "text/plain": [
       "<Figure size 432x288 with 1 Axes>"
      ]
     },
     "metadata": {
      "needs_background": "light"
     },
     "output_type": "display_data"
    }
   ],
   "source": [
    "plt.scatter(xaxis, Vin1)\n",
    "plt.ylim(-1e-5, -0.5e-5)"
   ]
  },
  {
   "cell_type": "code",
   "execution_count": 90,
   "metadata": {},
   "outputs": [
    {
     "data": {
      "text/plain": [
       "(-1e-06, 1e-06)"
      ]
     },
     "execution_count": 90,
     "metadata": {},
     "output_type": "execute_result"
    },
    {
     "data": {
      "image/png": "[encoded data removed]",
      "text/plain": [
       "<Figure size 432x288 with 1 Axes>"
      ]
     },
     "metadata": {
      "needs_background": "light"
     },
     "output_type": "display_data"
    }
   ],
   "source": [
    "plt.scatter(xaxis, Vin)\n",
    "plt.ylim(-1e-6, 1e-6)"
   ]
  },
  {
   "cell_type": "code",
   "execution_count": 97,
   "metadata": {},
   "outputs": [],
   "source": [
    "data = pd.DataFrame({\n",
    "    'V_in_1 (V)': Vin1,\n",
    "    'Kerr signal_1 (rad)': Vin0/0.7/3.3,\n",
    "    'V_in (V)': Vin,\n",
    "    'Kerr signal (rad)': Vin/0.7/3.3})\n",
    "data.to_csv('signal fluctuation with modulating field 2f')"
   ]
  },
  {
   "cell_type": "code",
   "execution_count": null,
   "metadata": {},
   "outputs": [],
   "source": []
  }
 ],
 "metadata": {
  "kernelspec": {
   "display_name": "Python 3",
   "language": "python",
   "name": "python3"
  },
  "language_info": {
   "codemirror_mode": {
    "name": "ipython",
    "version": 3
   },
   "file_extension": ".py",
   "mimetype": "text/x-python",
   "name": "python",
   "nbconvert_exporter": "python",
   "pygments_lexer": "ipython3",
   "version": "3.7.3"
  }
 },
 "nbformat": 4,
 "nbformat_minor": 2
}
